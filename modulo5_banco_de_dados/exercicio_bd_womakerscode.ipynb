{
 "cells": [
  {
   "cell_type": "code",
   "execution_count": 1,
   "id": "5214e76f",
   "metadata": {},
   "outputs": [],
   "source": [
    "# Importa a biblioteca do SQlite\n",
    "import sqlite3"
   ]
  },
  {
   "cell_type": "code",
   "execution_count": 2,
   "id": "9bebd585",
   "metadata": {},
   "outputs": [
    {
     "name": "stdout",
     "output_type": "stream",
     "text": [
      "Versão Python: 3.8.8\n"
     ]
    }
   ],
   "source": [
    "# Printa a versão Python utilizada neste exercício\n",
    "from platform import python_version\n",
    "print('Versão Python:', python_version())"
   ]
  },
  {
   "cell_type": "code",
   "execution_count": 3,
   "id": "dac4d197",
   "metadata": {},
   "outputs": [
    {
     "name": "stdout",
     "output_type": "stream",
     "text": [
      "sqlite3: 2.6.0\n",
      "\n"
     ]
    }
   ],
   "source": [
    "# Printa a versão utilizada do sqlite3\n",
    "%reload_ext watermark\n",
    "%watermark --iversions"
   ]
  },
  {
   "cell_type": "markdown",
   "id": "9d3b538e",
   "metadata": {},
   "source": [
    "**1. Crie uma tabela chamada \"alunos\" com os seguintes campos: id (inteiro), nome (texto), idade (inteiro) e curso (texto).**"
   ]
  },
  {
   "cell_type": "code",
   "execution_count": 4,
   "id": "67d428b3",
   "metadata": {},
   "outputs": [
    {
     "data": {
      "text/plain": [
       "<function Connection.close>"
      ]
     },
     "execution_count": 4,
     "metadata": {},
     "output_type": "execute_result"
    }
   ],
   "source": [
    "# Faz a conexão do arquivo python com o arquivo de BD criado no BDeaver\n",
    "conexao = sqlite3.connect('banco_exercicio')\n",
    "\n",
    "# Instancia o cursor\n",
    "cursor = conexao.cursor()\n",
    "\n",
    "# Cria a tabela alunos com as informações id, nome, idade e curso\n",
    "cursor.execute('CREATE TABLE alunos(id INT, nome VARCHAR(100), idade INT, curso VARCHAR(100));')\n",
    "\n",
    "# Envia as alterações e encerra a conexão\n",
    "conexao.commit()\n",
    "conexao.close"
   ]
  },
  {
   "cell_type": "markdown",
   "id": "2b3e4db7",
   "metadata": {},
   "source": [
    "**2. Insira pelo menos 5 registros de alunos na tabela que você criou no exercício anterior.**"
   ]
  },
  {
   "cell_type": "code",
   "execution_count": 5,
   "id": "381433ce",
   "metadata": {},
   "outputs": [
    {
     "data": {
      "text/plain": [
       "<function Connection.close>"
      ]
     },
     "execution_count": 5,
     "metadata": {},
     "output_type": "execute_result"
    }
   ],
   "source": [
    "# Inserindo os alunos\n",
    "cursor.execute('INSERT INTO alunos(id, nome, idade, curso) VALUES(1, \"Maria de Sousa\", 24, \"Letras\")')\n",
    "cursor.execute('INSERT INTO alunos(id, nome, idade, curso) VALUES(2, \"José da Silva\", 19, \"Administração\")')\n",
    "cursor.execute('INSERT INTO alunos(id, nome, idade, curso) VALUES(3, \"João Ferreira\", 21, \"Engenharia\")')\n",
    "cursor.execute('INSERT INTO alunos(id, nome, idade, curso) VALUES(4, \"Laura Batista\", 22, \"Análise e Desenvolvimento de Sistemas\")')\n",
    "cursor.execute('INSERT INTO alunos(id, nome, idade, curso) VALUES(5, \"Rodrigo Oliveira\", 23, \"Biologia\")')\n",
    "cursor.execute('INSERT INTO alunos(id, nome, idade, curso) VALUES(6, \"Tatiana Santos\", 20, \"Engenharia\")')\n",
    "\n",
    "# Envia as alterações e encerra a conexão\n",
    "conexao.commit()\n",
    "conexao.close"
   ]
  },
  {
   "cell_type": "markdown",
   "id": "33ff0f5f",
   "metadata": {},
   "source": [
    "**3. Consultas Básicas - Escreva consultas SQL para realizar as seguintes tarefas:**"
   ]
  },
  {
   "cell_type": "code",
   "execution_count": 6,
   "id": "92bcbfcd",
   "metadata": {},
   "outputs": [
    {
     "name": "stdout",
     "output_type": "stream",
     "text": [
      "(1, 'Maria de Sousa', 24, 'Letras')\n",
      "(2, 'José da Silva', 19, 'Administração')\n",
      "(3, 'João Ferreira', 21, 'Engenharia')\n",
      "(4, 'Laura Batista', 22, 'Análise e Desenvolvimento de Sistemas')\n",
      "(5, 'Rodrigo Oliveira', 23, 'Biologia')\n",
      "(6, 'Tatiana Santos', 20, 'Engenharia')\n"
     ]
    }
   ],
   "source": [
    "# a) Selecionar todos os registros da tabela \"alunos\".**\n",
    "alunos = cursor.execute('SELECT * FROM alunos')\n",
    "\n",
    "for aluno in alunos:\n",
    "    print(aluno)"
   ]
  },
  {
   "cell_type": "code",
   "execution_count": 7,
   "id": "b2e5d2a8",
   "metadata": {},
   "outputs": [
    {
     "name": "stdout",
     "output_type": "stream",
     "text": [
      "(1, 'Maria de Sousa', 24, 'Letras')\n",
      "(3, 'João Ferreira', 21, 'Engenharia')\n",
      "(4, 'Laura Batista', 22, 'Análise e Desenvolvimento de Sistemas')\n",
      "(5, 'Rodrigo Oliveira', 23, 'Biologia')\n"
     ]
    }
   ],
   "source": [
    "# b) Selecionar o nome e a idade dos alunos com mais de 20 anos.\n",
    "\n",
    "alunos_maior20 = cursor.execute('SELECT * FROM alunos WHERE idade > 20')\n",
    "\n",
    "for aluno in alunos_maior20:\n",
    "    print(aluno)"
   ]
  },
  {
   "cell_type": "code",
   "execution_count": 8,
   "id": "1763770e",
   "metadata": {},
   "outputs": [
    {
     "name": "stdout",
     "output_type": "stream",
     "text": [
      "(3, 'João Ferreira', 21, 'Engenharia')\n",
      "(6, 'Tatiana Santos', 20, 'Engenharia')\n"
     ]
    }
   ],
   "source": [
    "# c) Selecionar os alunos do curso de \"Engenharia\" em ordem alfabética\n",
    "\n",
    "alunos_engenharia = cursor.execute('SELECT * FROM alunos WHERE curso = \"Engenharia\" ORDER BY nome')\n",
    "                                   \n",
    "for aluno in alunos_engenharia:\n",
    "    print(aluno)"
   ]
  },
  {
   "cell_type": "code",
   "execution_count": 9,
   "id": "c863ab8a",
   "metadata": {},
   "outputs": [
    {
     "name": "stdout",
     "output_type": "stream",
     "text": [
      "A tabela contém um total de 6 alunos.\n"
     ]
    }
   ],
   "source": [
    "# d) Contar o número total de alunos na tabela\n",
    "\n",
    "cursor.execute('SELECT COUNT (*) FROM alunos')\n",
    "\n",
    "# cursor.fetchone() recupera a próxima linha de um conjunto de resultados de consulta e retorna uma única sequência ou None\n",
    "# se não houver mais linhas disponíveis.\n",
    "\n",
    "num_alunos = cursor.fetchone()\n",
    "print('A tabela contém um total de {} alunos.'.format(num_alunos[0]))"
   ]
  },
  {
   "cell_type": "markdown",
   "id": "4a879675",
   "metadata": {},
   "source": [
    "**4. Atualização e Remoção**"
   ]
  },
  {
   "cell_type": "code",
   "execution_count": 10,
   "id": "fec52406",
   "metadata": {},
   "outputs": [
    {
     "name": "stdout",
     "output_type": "stream",
     "text": [
      "(1, 'Maria de Sousa', 24, 'Letras')\n",
      "(2, 'José da Silva', 19, 'Administração')\n",
      "(3, 'João Ferreira', 21, 'Engenharia')\n",
      "(4, 'Laura Batista', 22, 'Análise e Desenvolvimento de Sistemas')\n",
      "(5, 'Rodrigo Oliveira', 23, 'Biologia')\n",
      "(6, 'Tatiana Santos', 20, 'Engenharia')\n"
     ]
    }
   ],
   "source": [
    "# Replicando a tabela alunos antes das alterações\n",
    "alunos = cursor.execute('SELECT * FROM alunos')\n",
    "\n",
    "for aluno in alunos:\n",
    "    print(aluno)"
   ]
  },
  {
   "cell_type": "code",
   "execution_count": 11,
   "id": "8321d73e",
   "metadata": {},
   "outputs": [
    {
     "data": {
      "text/plain": [
       "<function Connection.close>"
      ]
     },
     "execution_count": 11,
     "metadata": {},
     "output_type": "execute_result"
    }
   ],
   "source": [
    "# a) Atualize a idade de um aluno específico na tabela.\n",
    "cursor.execute('UPDATE alunos SET idade = 22 WHERE nome = \"Maria de Sousa\"')\n",
    "\n",
    "conexao.commit()\n",
    "conexao.close"
   ]
  },
  {
   "cell_type": "code",
   "execution_count": 12,
   "id": "1353f88a",
   "metadata": {},
   "outputs": [
    {
     "data": {
      "text/plain": [
       "<function Connection.close>"
      ]
     },
     "execution_count": 12,
     "metadata": {},
     "output_type": "execute_result"
    }
   ],
   "source": [
    "# b) Remova um aluno pelo seu ID.\n",
    "cursor.execute('DELETE FROM alunos WHERE nome = \"Rodrigo Oliveira\"')\n",
    "\n",
    "conexao.commit()\n",
    "conexao.close"
   ]
  },
  {
   "cell_type": "code",
   "execution_count": 13,
   "id": "f0c0d50c",
   "metadata": {},
   "outputs": [
    {
     "name": "stdout",
     "output_type": "stream",
     "text": [
      "(1, 'Maria de Sousa', 22, 'Letras')\n",
      "(2, 'José da Silva', 19, 'Administração')\n",
      "(3, 'João Ferreira', 21, 'Engenharia')\n",
      "(4, 'Laura Batista', 22, 'Análise e Desenvolvimento de Sistemas')\n",
      "(6, 'Tatiana Santos', 20, 'Engenharia')\n"
     ]
    }
   ],
   "source": [
    "# Print da tabela alunos após as alterações\n",
    "alunos = cursor.execute('SELECT * FROM alunos')\n",
    "\n",
    "for aluno in alunos:\n",
    "    print(aluno)"
   ]
  },
  {
   "cell_type": "markdown",
   "id": "4775ad46",
   "metadata": {},
   "source": [
    "**5. Criar uma Tabela e Inserir Dados**  \n",
    "Crie uma tabela chamada \"clientes\" com os campos: id (chave primária), nome (texto), idade (inteiro) e saldo (float).    Insira alguns registros de clientes na tabela."
   ]
  },
  {
   "cell_type": "code",
   "execution_count": 14,
   "id": "3efea921",
   "metadata": {},
   "outputs": [
    {
     "data": {
      "text/plain": [
       "<function Connection.close>"
      ]
     },
     "execution_count": 14,
     "metadata": {},
     "output_type": "execute_result"
    }
   ],
   "source": [
    "# Cria a tabela clientes com as informações id, nome, idade e saldo, indicando id como chave primária\n",
    "cursor.execute('CREATE TABLE clientes (id INT PRIMARY KEY, nome VARCHAR(100), idade INT, saldo FLOAT);')\n",
    "\n",
    "# Envia as alterações e encerra a conexão\n",
    "conexao.commit()\n",
    "conexao.close"
   ]
  },
  {
   "cell_type": "code",
   "execution_count": 15,
   "id": "e6bf207d",
   "metadata": {},
   "outputs": [
    {
     "data": {
      "text/plain": [
       "<function Connection.close>"
      ]
     },
     "execution_count": 15,
     "metadata": {},
     "output_type": "execute_result"
    }
   ],
   "source": [
    "# Inserindo clientes\n",
    "cursor.execute('INSERT INTO clientes(id, nome, idade, saldo) VALUES(1, \"José Silva\", 24, 500)')\n",
    "cursor.execute('INSERT INTO clientes(id, nome, idade, saldo) VALUES(2, \"João Santos\", 18, 150)')\n",
    "cursor.execute('INSERT INTO clientes(id, nome, idade, saldo) VALUES(3, \"Antonio Oliveira\", 35, 1050.62)')\n",
    "cursor.execute('INSERT INTO clientes(id, nome, idade, saldo) VALUES(4, \"Francisco Sousa\", 62, 854.79)')\n",
    "cursor.execute('INSERT INTO clientes(id, nome, idade, saldo) VALUES(5, \"Carlos Rodrigues\", 37, 3256.83)')\n",
    "cursor.execute('INSERT INTO clientes(id, nome, idade, saldo) VALUES(6, \"Paulo Ferreira\", 45, 238.43)')\n",
    "cursor.execute('INSERT INTO clientes(id, nome, idade, saldo) VALUES(7, \"Helena Alves\", 31, 1265.54)')\n",
    "cursor.execute('INSERT INTO clientes(id, nome, idade, saldo) VALUES(8, \"Alice Pereira\", 28, 835)')\n",
    "cursor.execute('INSERT INTO clientes(id, nome, idade, saldo) VALUES(9, \"Laura Lima\", 51, 1432.99)')\n",
    "cursor.execute('INSERT INTO clientes(id, nome, idade, saldo) VALUES(10, \"Manuela Gomes\", 26, 642)')\n",
    "cursor.execute('INSERT INTO clientes(id, nome, idade, saldo) VALUES(11, \"Maria Luiza Costa\", 33, 152)')\n",
    "cursor.execute('INSERT INTO clientes(id, nome, idade, saldo) VALUES(12, \"Sarah Ribeiro\", 20, 80)')\n",
    "\n",
    "# Envia as alterações e encerra a conexão\n",
    "conexao.commit()\n",
    "conexao.close"
   ]
  },
  {
   "cell_type": "code",
   "execution_count": 16,
   "id": "6e9a833a",
   "metadata": {},
   "outputs": [
    {
     "name": "stdout",
     "output_type": "stream",
     "text": [
      "(1, 'José Silva', 24, 500.0)\n",
      "(2, 'João Santos', 18, 150.0)\n",
      "(3, 'Antonio Oliveira', 35, 1050.62)\n",
      "(4, 'Francisco Sousa', 62, 854.79)\n",
      "(5, 'Carlos Rodrigues', 37, 3256.83)\n",
      "(6, 'Paulo Ferreira', 45, 238.43)\n",
      "(7, 'Helena Alves', 31, 1265.54)\n",
      "(8, 'Alice Pereira', 28, 835.0)\n",
      "(9, 'Laura Lima', 51, 1432.99)\n",
      "(10, 'Manuela Gomes', 26, 642.0)\n",
      "(11, 'Maria Luiza Costa', 33, 152.0)\n",
      "(12, 'Sarah Ribeiro', 20, 80.0)\n"
     ]
    }
   ],
   "source": [
    "# Verificando a tabela criada\n",
    "clientes = cursor.execute('SELECT * FROM clientes')\n",
    "\n",
    "for cliente in clientes:\n",
    "    print(cliente)"
   ]
  },
  {
   "cell_type": "markdown",
   "id": "124f7bbb",
   "metadata": {},
   "source": [
    "**6. Consultas e Funções Agregadas - Escreva consultas SQL para realizar as seguintes tarefas:**"
   ]
  },
  {
   "cell_type": "code",
   "execution_count": 17,
   "id": "a6dd0487",
   "metadata": {},
   "outputs": [
    {
     "name": "stdout",
     "output_type": "stream",
     "text": [
      "('Antonio Oliveira', 35)\n",
      "('Francisco Sousa', 62)\n",
      "('Carlos Rodrigues', 37)\n",
      "('Paulo Ferreira', 45)\n",
      "('Helena Alves', 31)\n",
      "('Laura Lima', 51)\n",
      "('Maria Luiza Costa', 33)\n"
     ]
    }
   ],
   "source": [
    "# a) Selecione o nome e a idade dos clientes com idade superior a 30 anos.\n",
    "clientes_mais30 = cursor.execute('SELECT nome, idade FROM clientes WHERE idade > 30')\n",
    "\n",
    "for cliente in clientes_mais30:\n",
    "    print(cliente)"
   ]
  },
  {
   "cell_type": "code",
   "execution_count": 18,
   "id": "f0ff10d8",
   "metadata": {},
   "outputs": [
    {
     "name": "stdout",
     "output_type": "stream",
     "text": [
      "O saldo médio dos clientes é de R$871.52.\n"
     ]
    }
   ],
   "source": [
    "# b) Calcule o saldo médio dos clientes\n",
    "# Query que realiza o calculo da média de saldo dos clientes\n",
    "cursor.execute('SELECT AVG(saldo) FROM clientes')\n",
    "\n",
    "# cria variável com o retorno da query\n",
    "saldo_medio = cursor.fetchone()\n",
    "\n",
    "# printa a resposta\n",
    "print('O saldo médio dos clientes é de R${:.2f}.'.format(saldo_medio[0]))"
   ]
  },
  {
   "cell_type": "code",
   "execution_count": 19,
   "id": "de2ac312",
   "metadata": {},
   "outputs": [
    {
     "name": "stdout",
     "output_type": "stream",
     "text": [
      "Carlos Rodrigues\n"
     ]
    }
   ],
   "source": [
    "# c) Encontre o cliente com o saldo máximo.\n",
    "cursor.execute('SELECT nome, MAX(saldo) FROM clientes')\n",
    "\n",
    "maior_saldo = cursor.fetchone()\n",
    "\n",
    "# printa a resposta\n",
    "print(maior_saldo[0])"
   ]
  },
  {
   "cell_type": "code",
   "execution_count": 20,
   "id": "172147b8",
   "metadata": {},
   "outputs": [
    {
     "name": "stdout",
     "output_type": "stream",
     "text": [
      "A tabela possui 4 clientes com saldo acima de 1000.\n"
     ]
    }
   ],
   "source": [
    "# d) Conte quantos clientes têm saldo acima de 1000.\n",
    "cursor.execute('SELECT COUNT (*) FROM clientes WHERE saldo > 1000')\n",
    "\n",
    "clientes_1000 = cursor.fetchone()\n",
    "\n",
    "print('A tabela possui {} clientes com saldo acima de 1000.'.format(clientes_1000[0]))"
   ]
  },
  {
   "cell_type": "markdown",
   "id": "f1558e01",
   "metadata": {},
   "source": [
    "**7. Atualização e Remoção com Condições**"
   ]
  },
  {
   "cell_type": "code",
   "execution_count": 21,
   "id": "366f788a",
   "metadata": {},
   "outputs": [
    {
     "name": "stdout",
     "output_type": "stream",
     "text": [
      "(1, 'José Silva', 24, 500.0)\n",
      "(2, 'João Santos', 18, 150.0)\n",
      "(3, 'Antonio Oliveira', 35, 1050.62)\n",
      "(4, 'Francisco Sousa', 62, 854.79)\n",
      "(5, 'Carlos Rodrigues', 37, 3256.83)\n",
      "(6, 'Paulo Ferreira', 45, 238.43)\n",
      "(7, 'Helena Alves', 31, 1265.54)\n",
      "(8, 'Alice Pereira', 28, 835.0)\n",
      "(9, 'Laura Lima', 51, 1432.99)\n",
      "(10, 'Manuela Gomes', 26, 642.0)\n",
      "(11, 'Maria Luiza Costa', 33, 152.0)\n",
      "(12, 'Sarah Ribeiro', 20, 80.0)\n"
     ]
    }
   ],
   "source": [
    "# Replicando a tabela clientes antes das alterações\n",
    "clientes = cursor.execute('SELECT * FROM clientes')\n",
    "\n",
    "for cliente in clientes:\n",
    "    print(cliente)"
   ]
  },
  {
   "cell_type": "code",
   "execution_count": 22,
   "id": "59ccf870",
   "metadata": {},
   "outputs": [
    {
     "data": {
      "text/plain": [
       "<function Connection.close>"
      ]
     },
     "execution_count": 22,
     "metadata": {},
     "output_type": "execute_result"
    }
   ],
   "source": [
    "# a) Atualize o saldo de um cliente específico.\n",
    "cursor.execute('UPDATE clientes SET saldo = 456 WHERE nome = \"Sarah Ribeiro\"')\n",
    "\n",
    "conexao.commit()\n",
    "conexao.close"
   ]
  },
  {
   "cell_type": "code",
   "execution_count": 23,
   "id": "d122cb6c",
   "metadata": {},
   "outputs": [
    {
     "data": {
      "text/plain": [
       "<function Connection.close>"
      ]
     },
     "execution_count": 23,
     "metadata": {},
     "output_type": "execute_result"
    }
   ],
   "source": [
    "# b) Remova um cliente pelo seu ID.\n",
    "cursor.execute('DELETE FROM clientes WHERE ID = 5')\n",
    "\n",
    "conexao.commit()\n",
    "conexao.close"
   ]
  },
  {
   "cell_type": "code",
   "execution_count": 24,
   "id": "efcaf5a1",
   "metadata": {},
   "outputs": [
    {
     "name": "stdout",
     "output_type": "stream",
     "text": [
      "(1, 'José Silva', 24, 500.0)\n",
      "(2, 'João Santos', 18, 150.0)\n",
      "(3, 'Antonio Oliveira', 35, 1050.62)\n",
      "(4, 'Francisco Sousa', 62, 854.79)\n",
      "(6, 'Paulo Ferreira', 45, 238.43)\n",
      "(7, 'Helena Alves', 31, 1265.54)\n",
      "(8, 'Alice Pereira', 28, 835.0)\n",
      "(9, 'Laura Lima', 51, 1432.99)\n",
      "(10, 'Manuela Gomes', 26, 642.0)\n",
      "(11, 'Maria Luiza Costa', 33, 152.0)\n",
      "(12, 'Sarah Ribeiro', 20, 456.0)\n"
     ]
    }
   ],
   "source": [
    "# A tabela clientes após as alterações efetuadas\n",
    "clientes = cursor.execute('SELECT * FROM clientes')\n",
    "\n",
    "for cliente in clientes:\n",
    "    print(cliente)"
   ]
  },
  {
   "cell_type": "markdown",
   "id": "0e3527c2",
   "metadata": {},
   "source": [
    "**8. Junção de Tabelas**  \n",
    "Crie uma segunda tabela chamada \"compras\" com os campos: id (chave primária), cliente_id (chave estrangeira referenciando o id da tabela \"clientes\"), produto (texto) e valor (real). Insira algumas compras associadas a clientes existentes na tabela \"clientes\".  \n",
    "Escreva uma consulta para exibir o nome do cliente, o produto e o valor de cada compra."
   ]
  },
  {
   "cell_type": "code",
   "execution_count": 25,
   "id": "68b56233",
   "metadata": {},
   "outputs": [
    {
     "data": {
      "text/plain": [
       "<function Connection.close>"
      ]
     },
     "execution_count": 25,
     "metadata": {},
     "output_type": "execute_result"
    }
   ],
   "source": [
    "# Cria a tabela compras com os campos: id (chave primária), cliente_id (chave estrangeira referenciando o id da tabela \n",
    "# \"clientes\"), produto (texto) e valor (real).\n",
    "cursor.execute('CREATE TABLE compras (id INT, cliente_id INT, produto VARCHAR(100), valor REAL, PRIMARY KEY (id), FOREIGN KEY (cliente_id) REFERENCES clientes(id));')\n",
    "\n",
    "# Envia as alterações e encerra a conexão\n",
    "conexao.commit()\n",
    "conexao.close"
   ]
  },
  {
   "cell_type": "code",
   "execution_count": 26,
   "id": "30b55711",
   "metadata": {},
   "outputs": [
    {
     "data": {
      "text/plain": [
       "<function Connection.close>"
      ]
     },
     "execution_count": 26,
     "metadata": {},
     "output_type": "execute_result"
    }
   ],
   "source": [
    "# Insira algumas compras associadas a clientes existentes na tabela \"clientes\".\n",
    "cursor.execute('INSERT INTO compras(id, cliente_id, produto, valor) VALUES(1, 3, \"mouse\", 100)')\n",
    "cursor.execute('INSERT INTO compras(id, cliente_id, produto, valor) VALUES(2, 8, \"impressora\", 650)')\n",
    "cursor.execute('INSERT INTO compras(id, cliente_id, produto, valor) VALUES(3, 11, \"mouse\", 100)')\n",
    "cursor.execute('INSERT INTO compras(id, cliente_id, produto, valor) VALUES(4, 4, \"luminária\", 50)')\n",
    "cursor.execute('INSERT INTO compras(id, cliente_id, produto, valor) VALUES(5, 2, \"tablet\", 1500)')\n",
    "cursor.execute('INSERT INTO compras(id, cliente_id, produto, valor) VALUES(6, 9, \"notebook\", 2500)')\n",
    "cursor.execute('INSERT INTO compras(id, cliente_id, produto, valor) VALUES(7, 1, \"monitor\", 550)')\n",
    "cursor.execute('INSERT INTO compras(id, cliente_id, produto, valor) VALUES(8, 6, \"teclado\", 150)')\n",
    "\n",
    "# Envia as alterações e encerra a conexão\n",
    "conexao.commit()\n",
    "conexao.close"
   ]
  },
  {
   "cell_type": "code",
   "execution_count": 27,
   "id": "5783c384",
   "metadata": {},
   "outputs": [
    {
     "name": "stdout",
     "output_type": "stream",
     "text": [
      "(1, 3, 'mouse', 100.0)\n",
      "(2, 8, 'impressora', 650.0)\n",
      "(3, 11, 'mouse', 100.0)\n",
      "(4, 4, 'luminária', 50.0)\n",
      "(5, 2, 'tablet', 1500.0)\n",
      "(6, 9, 'notebook', 2500.0)\n",
      "(7, 1, 'monitor', 550.0)\n",
      "(8, 6, 'teclado', 150.0)\n"
     ]
    }
   ],
   "source": [
    "# Verificando a tabela compras criada\n",
    "compras = cursor.execute('SELECT * FROM compras')\n",
    "\n",
    "for compra in compras:\n",
    "    print(compra)"
   ]
  },
  {
   "cell_type": "code",
   "execution_count": 28,
   "id": "5b694f0a",
   "metadata": {},
   "outputs": [
    {
     "name": "stdout",
     "output_type": "stream",
     "text": [
      "('Antonio Oliveira', 'mouse', 100.0)\n",
      "('Alice Pereira', 'impressora', 650.0)\n",
      "('Maria Luiza Costa', 'mouse', 100.0)\n",
      "('Francisco Sousa', 'luminária', 50.0)\n",
      "('João Santos', 'tablet', 1500.0)\n",
      "('Laura Lima', 'notebook', 2500.0)\n",
      "('José Silva', 'monitor', 550.0)\n",
      "('Paulo Ferreira', 'teclado', 150.0)\n"
     ]
    }
   ],
   "source": [
    "# Escreva uma consulta para exibir o nome do cliente, o produto e o valor de cada compra.\n",
    "# Retorna uma lista somente com os clientes que realizaram compra de produtos.\n",
    "compras = cursor.execute('''SELECT nome, produto, valor clientes FROM clientes LEFT JOIN compras ON \n",
    "                         clientes.id = compras.cliente_id WHERE produto <> \"None\"''')\n",
    "\n",
    "for compra in compras:\n",
    "    print(compra)"
   ]
  }
 ],
 "metadata": {
  "kernelspec": {
   "display_name": "Python 3",
   "language": "python",
   "name": "python3"
  },
  "language_info": {
   "codemirror_mode": {
    "name": "ipython",
    "version": 3
   },
   "file_extension": ".py",
   "mimetype": "text/x-python",
   "name": "python",
   "nbconvert_exporter": "python",
   "pygments_lexer": "ipython3",
   "version": "3.8.8"
  }
 },
 "nbformat": 4,
 "nbformat_minor": 5
}
